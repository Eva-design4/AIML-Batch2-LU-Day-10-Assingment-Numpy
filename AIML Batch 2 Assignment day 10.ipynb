{
 "cells": [
  {
   "cell_type": "markdown",
   "metadata": {},
   "source": [
    "# Question 1"
   ]
  },
  {
   "cell_type": "markdown",
   "metadata": {},
   "source": [
    "Create an element -wise comparison(greater,greater_equal, less and less_equal) of two arrays"
   ]
  },
  {
   "cell_type": "code",
   "execution_count": 18,
   "metadata": {},
   "outputs": [
    {
     "name": "stdout",
     "output_type": "stream",
     "text": [
      "[25 30]\n",
      "[35 40]\n",
      "[False False]\n",
      "[False False]\n",
      "[ True  True]\n",
      "[ True  True]\n"
     ]
    }
   ],
   "source": [
    "import numpy as np\n",
    "array1 = np.array([25,30])\n",
    "array2 = np.array([35,40])\n",
    " # print original arrays.\n",
    "print(array1)\n",
    "print(array2)\n",
    "#print(\"Greater than  between array1 and aaray2\")\n",
    "print(np.greater(array1,array2))\n",
    "#print greater than or equal to between array1 and array2\n",
    "print(np.greater_equal(array1,array2))\n",
    "#print less than between array1 and array 2\n",
    "print(np.less(array1,array2))\n",
    "#print less than or equal to between array1 and array2\n",
    "print(np.less_equal (array1,array2))"
   ]
  },
  {
   "cell_type": "markdown",
   "metadata": {},
   "source": [
    "# Question 2"
   ]
  },
  {
   "cell_type": "markdown",
   "metadata": {},
   "source": [
    "Write a Numpy program to create an array of 10 zeros, 10 ones, 10 fives"
   ]
  },
  {
   "cell_type": "code",
   "execution_count": 1,
   "metadata": {},
   "outputs": [
    {
     "name": "stdout",
     "output_type": "stream",
     "text": [
      "[0. 0. 0. 0. 0. 0. 0. 0. 0. 0.]\n",
      "[1. 1. 1. 1. 1. 1. 1. 1. 1. 1.]\n",
      "[5. 5. 5. 5. 5. 5. 5. 5. 5. 5.]\n"
     ]
    }
   ],
   "source": [
    "import numpy as np\n",
    "\n",
    "array = np.zeros(10)\n",
    "print(array)\n",
    "array = np.ones(10)\n",
    "print(array)\n",
    "array = np.ones(10)*5\n",
    "print(array)"
   ]
  },
  {
   "cell_type": "markdown",
   "metadata": {},
   "source": [
    "# Question 3"
   ]
  },
  {
   "cell_type": "markdown",
   "metadata": {},
   "source": [
    "Write Numpy program to compute sum of all elements , sum of each column and sum of each row of a given array."
   ]
  },
  {
   "cell_type": "code",
   "execution_count": 3,
   "metadata": {},
   "outputs": [
    {
     "name": "stdout",
     "output_type": "stream",
     "text": [
      "[[1 2 4]\n",
      " [3 5 6]]\n",
      "21\n",
      "[ 4  7 10]\n",
      "[ 7 14]\n"
     ]
    }
   ],
   "source": [
    "import numpy as np\n",
    "\n",
    "y = np.array([[1,2,4],[3,5,6]])\n",
    "print(y)\n",
    "print(np.sum(y))# sum of all elements\n",
    "print(np.sum(y, axis =0)) # sum of each element\n",
    "print (np.sum(y, axis = 1)) # sum of each row"
   ]
  },
  {
   "cell_type": "markdown",
   "metadata": {},
   "source": [
    "# Question 4"
   ]
  },
  {
   "cell_type": "markdown",
   "metadata": {},
   "source": [
    "Write a Numpy program to add , subtract, multipy divide arguments element-wise"
   ]
  },
  {
   "cell_type": "code",
   "execution_count": 16,
   "metadata": {},
   "outputs": [
    {
     "name": "stdout",
     "output_type": "stream",
     "text": [
      "8.0\n",
      "-4.0\n",
      "12.0\n",
      "0.3333333333333333\n"
     ]
    }
   ],
   "source": [
    "se = 6.0,2.0\n",
    "import numpy as np\n",
    "\n",
    "print(np.add(2.0, 6.0)) #adding the elements\n",
    "\n",
    "print(np.subtract(2.0, 6.0))# subtracting the element\n",
    "print(np.multiply(2.0, 6.0))# multiplying the elements\n",
    "print(np.divide(2.0, 6.0))# divide the elemnts\n"
   ]
  },
  {
   "cell_type": "markdown",
   "metadata": {},
   "source": [
    "# Question 5"
   ]
  },
  {
   "cell_type": "markdown",
   "metadata": {},
   "source": [
    "Write a NumPy program to compute the trigonometric sine , cosine and tangent array of angles given in degree"
   ]
  },
  {
   "cell_type": "code",
   "execution_count": 17,
   "metadata": {},
   "outputs": [
    {
     "name": "stdout",
     "output_type": "stream",
     "text": [
      "[0.         0.57357644 0.64278761 0.90630779 1.        ]\n",
      "[1.00000000e+00 8.19152044e-01 7.66044443e-01 4.22618262e-01\n",
      " 6.12323400e-17]\n",
      "[0.00000000e+00 7.00207538e-01 8.39099631e-01 2.14450692e+00\n",
      " 1.63312394e+16]\n"
     ]
    }
   ],
   "source": [
    "import numpy as np\n",
    "#print sine ;array of angles of given degrees\n",
    "print(np.sin(np.array((0., 35., 40., 65.,90.))*np.pi / 180.))\n",
    "# print cosine;array\n",
    "print(np.cos(np.array((0., 35., 40., 65., 90.))*np.pi / 180.))\n",
    "#print tangent; array of given angles in given degrees.\n",
    "print(np.tan(np.array((0., 35., 40., 65., 90.))*np.pi /180.))"
   ]
  },
  {
   "cell_type": "code",
   "execution_count": null,
   "metadata": {},
   "outputs": [],
   "source": []
  }
 ],
 "metadata": {
  "kernelspec": {
   "display_name": "Python 3",
   "language": "python",
   "name": "python3"
  },
  "language_info": {
   "codemirror_mode": {
    "name": "ipython",
    "version": 3
   },
   "file_extension": ".py",
   "mimetype": "text/x-python",
   "name": "python",
   "nbconvert_exporter": "python",
   "pygments_lexer": "ipython3",
   "version": "3.7.6"
  }
 },
 "nbformat": 4,
 "nbformat_minor": 4
}
